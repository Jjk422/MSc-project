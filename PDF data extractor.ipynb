{
 "cells": [
  {
   "cell_type": "markdown",
   "metadata": {},
   "source": [
    "Global Variables"
   ]
  },
  {
   "cell_type": "code",
   "execution_count": 1,
   "metadata": {
    "pycharm": {
     "is_executing": false
    }
   },
   "outputs": [],
   "source": [
    "file_path = \"ITIL Books/ITIL 3/ITIL3 Service Operation chapter 4.pdf\"\n",
    "# extracted_text_file_path = \"ITIL Books/ITIL 3/Continual service improvement chapter from notebook.txt\"\n",
    "extracted_text_file_path = \"ITIL Books/ITIL 3/Service operation chapter 4/Service operation chapter 4 - 4.txt\"\n",
    "output_file_path = \"output/ITIL3 Continual Service Improvement.txt\""
   ]
  },
  {
   "cell_type": "markdown",
   "metadata": {},
   "source": [
    "Imports"
   ]
  },
  {
   "cell_type": "code",
   "execution_count": 2,
   "metadata": {
    "pycharm": {
     "is_executing": false
    }
   },
   "outputs": [],
   "source": [
    "import pdfminer\n",
    "import nltk\n",
    "import re"
   ]
  },
  {
   "cell_type": "markdown",
   "metadata": {},
   "source": [
    "Global Functions"
   ]
  },
  {
   "cell_type": "code",
   "execution_count": 3,
   "metadata": {
    "pycharm": {
     "is_executing": false
    }
   },
   "outputs": [],
   "source": [
    "with open(extracted_text_file_path, 'r') as file:\n",
    "    extracted_text = file.read()\n",
    "    \n",
    "# extracted_text = \"Particle dynamics involves the study of physics and chemistry\"\n",
    "\n",
    "# tokens = nltk.word_tokenize(extracted_text)\n",
    "# print(tokens)\n",
    "\n",
    "# ### Part of speech tagging ###\n",
    "# part_of_speech_array = nltk.pos_tag(tokens)\n",
    "# print(part_of_speech_array)\n"
   ]
  },
  {
   "cell_type": "markdown",
   "metadata": {
    "pycharm": {
     "is_executing": false,
     "name": "#%% md\n"
    },
    "scrolled": false
   },
   "source": [
    "Text sanitization and word tokenizing"
   ]
  },
  {
   "cell_type": "code",
   "execution_count": 4,
   "metadata": {
    "pycharm": {
     "is_executing": false,
     "name": "#%%\n"
    }
   },
   "outputs": [],
   "source": [
    "### Grab sections from text ###\n",
    "# print(re.findall(\"^\\d(\\.|\\d)*(\\s|\\w)*$\", extracted_text))\n",
    "# title_pattern = re.compile(r\"^\\d(\\.|\\d)*(\\s|\\w)*$\", re.MULTILINE)\n",
    "title_pattern = re.compile(r\"^\\d+.*$\", re.MULTILINE)\n",
    "\n",
    "sections = title_pattern.findall(extracted_text)\n",
    "for counter, section in enumerate(sections):\n",
    "    if not (section.find(\"%\") == -1 and section.find(\")\") == -1):\n",
    "        sections.remove(section)\n",
    "\n",
    "### Sanitise extracted text ###\n",
    "extracted_text_sanitised = extracted_text\n",
    "extracted_text_sanitised = extracted_text.replace(\"¦\", \"\")\n",
    "extracted_text_sanitised = extracted_text_sanitised.replace(\"–\", \"\")\n",
    "        \n",
    "### Tokenise extracted text ###\n",
    "tokens = nltk.word_tokenize(extracted_text_sanitised)\n",
    "# print(tokens)\n"
   ]
  },
  {
   "cell_type": "markdown",
   "metadata": {},
   "source": [
    "Part to speech tagging"
   ]
  },
  {
   "cell_type": "code",
   "execution_count": 5,
   "metadata": {
    "pycharm": {
     "is_executing": false,
     "name": "#%%\n"
    }
   },
   "outputs": [],
   "source": [
    "### Part of speech tagging ###\n",
    "part_of_speech_array = nltk.pos_tag(tokens)\n",
    "# print(part_of_speech_array)\n",
    "\n",
    "from nltk.stem import WordNetLemmatizer \n",
    "lemmatizer = WordNetLemmatizer()\n",
    "\n",
    "part_of_speech_array_lemmatized = []\n",
    "\n",
    "for part_of_speech in part_of_speech_array:\n",
    "    part_of_speech_array_lemmatized.append(\n",
    "        (lemmatizer.lemmatize(part_of_speech[0]), part_of_speech[1])\n",
    "    ) \n",
    "    \n",
    "# print(part_of_speech_array_lemmatized)\n"
   ]
  },
  {
   "cell_type": "markdown",
   "metadata": {
    "pycharm": {
     "name": "#%% md\n"
    }
   },
   "source": [
    "Term extraction"
   ]
  },
  {
   "cell_type": "code",
   "execution_count": 6,
   "metadata": {
    "pycharm": {
     "is_executing": false,
     "name": "#%%\n"
    }
   },
   "outputs": [
    {
     "name": "stdout",
     "output_type": "stream",
     "text": [
      "major named concepts: \n",
      "['Service Operation', 'Please', 'Chapters', 'Management', 'IT', 'Incident Management', 'Problem Management', 'Known Error', 'Incident', 'Problem Records', '’', 'SLA', '’', 'Request Fulfilment', 'Incident Management', 'Request Fulfilment', 'Request Fulfilment', 'Request Fulfilment', 'IT', 'SLA', 'Access', 'HR', 'Access Management', 'Identity', 'Rights', 'Service Operation', 'Service Management Lifecycle', 'Change Management', 'Configuration Management', 'Release Management', 'Service Transition', 'Capacity', 'Availability Management', 'Service Design', 'Financial Management', 'Service Strategy', 'Knowledge Management', 'Service Transition', 'IT Service Continuity', 'Service Design', 'Service Reporting', 'Measurement', 'Continual Service Improvement']\n",
      "\n",
      "other concepts: \n",
      "['processes', 'paragraph', 'detail', 'chapter', 'reference', 'structure', 'processes', 'detail', 'chapter', 'note', 'roles', 'process', 'tools', 'process', 'process', 'monitors', 'events', 'infrastructure', 'operation', 'exception conditions', 'service', 'users', 'order', 'business impact', 'root-cause analysis', 'cause', 'events', 'incidents', 'activities', 'problems/incidents', 'subprocess', 'quicker diagnosis', 'resolution', 'incidents', 'NOTE', 'distinction', 'incidents', 'problems', 'danger', 'Incidents', 'support cycle', 'actions', 'recurrence', 'incidents', 'Incidents', 'root cause analysis', 'visibility', 'user', 's service', 'targets', 'service', 'users', 'expectations', 'results', 'number', 'incidents', '‘ purge', 'visibility', 'issues', 'management', 'customer', 'user requests', 'incident', 'service delay', 'disruption', 'organizations', 'requests', 'category ’', 'incidents', 'information', 'system', 'others', 'volumes', 'business priority', 'requests', 'provision', 'process', 'practice', 'process', 'customer', 'user requests', 'types', 'requests', 'facilities', 'moves', 'supplies', 'services', 'requests', 'measures', 'records', 'process flow', 'practice', 'organizations', 'Management', 'process', 'users', 'right', 'service', 'access', 'users', 'users', 'ability', 'access services', 'stages', 'resources', 'lifecycle', 'Management', 'organizations', 'addition', 'processes', 'phases', 'aspects', 'processes', 'part', 'chapter', 'include', 'process', 'topics', 'publication', 'aspects', 'publication', 'detail', 'publication', 'publication', 'publication', 'publication', 'publication']\n",
      "\n",
      "all noun phrases: \n",
      "['Service Operation', 'processes', 'paragraph', 'detail', 'chapter', 'reference', 'structure', 'processes', 'detail', 'chapter', 'Please note', 'roles', 'process', 'tools', 'process', 'Chapters', 'Management', 'process', 'monitors', 'events', 'IT infrastructure', 'operation', 'exception conditions', 'Incident Management', 'service', 'users', 'order', 'business impact', 'Problem Management', 'root-cause analysis', 'cause', 'events', 'incidents', 'activities', 'problems/incidents', 'Known Error subprocess', 'quicker diagnosis', 'resolution', 'incidents', 'NOTE', 'distinction', 'incidents', 'problems', 'Incident', 'Problem Records', 'danger', 'Incidents', 'support cycle', 'actions', 'recurrence', 'incidents', 'Incidents', 'root cause analysis', 'visibility', 'user ’ s service', 'SLA targets', 'service', 'users', 'expectations', 'results', 'number', 'incidents', '‘ purge ’', 'visibility', 'issues', 'Request Fulfilment', 'management', 'customer', 'user requests', 'incident', 'service delay', 'disruption', 'organizations', 'requests', 'category ’', 'incidents', 'information', 'Incident Management system', 'others', 'volumes', 'business priority', 'requests', 'provision', 'Request Fulfilment', 'Request Fulfilment process', 'practice', 'Request Fulfilment process', 'customer', 'user requests', 'types', 'requests', 'facilities', 'moves', 'supplies', 'IT services', 'requests', 'SLA measures', 'records', 'process flow', 'practice', 'organizations', 'Access Management', 'process', 'users', 'right', 'service', 'access', 'users', 'users', 'ability', 'access services', 'stages', 'resources', 'HR', 'lifecycle', 'Access Management', 'Identity', 'Rights Management', 'organizations', 'addition', 'processes', 'Service Operation', 'phases', 'Service Management Lifecycle', 'aspects', 'processes', 'part', 'chapter', 'include', 'Change Management', 'process', 'Configuration Management', 'Release Management', 'topics', 'Service Transition publication', 'Capacity', 'Availability Management', 'aspects', 'publication', 'detail', 'Service Design publication', 'Financial Management', 'Service Strategy publication', 'Knowledge Management', 'Service Transition publication', 'IT Service Continuity', 'Service Design publication', 'Service Reporting', 'Measurement', 'Continual Service Improvement publication']\n"
     ]
    }
   ],
   "source": [
    "### Term Extraction (NNP next to each other) ###\n",
    "def extract_terms(part_of_speech_array_array, tags_to_use):\n",
    "    terms_array = []\n",
    "    term_phrase = []\n",
    "    start_new_term = True\n",
    "    for index, part in enumerate(part_of_speech_array_array):\n",
    "        if(part[1] in tags_to_use):\n",
    "            term_phrase.append(part[0])\n",
    "            start_new_term = False if part_of_speech_array_array[index + 1][1] in tags_to_use else True\n",
    "\n",
    "            if start_new_term == True:\n",
    "                terms_array.append(\" \".join(term_phrase))\n",
    "                term_phrase = []\n",
    "    return terms_array\n",
    "\n",
    "major_named_concepts = extract_terms(part_of_speech_array, {\"NNP\", \"NNPS\"})\n",
    "other_concepts = extract_terms(part_of_speech_array, {\"NN\", \"NNS\"})\n",
    "all_noun_phrases = extract_terms(part_of_speech_array, {\"NNP\", \"NNPS\", \"NN\", \"NNS\"})\n",
    "\n",
    "print(f\"major named concepts: \\n{major_named_concepts}\")\n",
    "print(f\"\\nother concepts: \\n{other_concepts}\")\n",
    "print(f\"\\nall noun phrases: \\n{all_noun_phrases}\")\n"
   ]
  },
  {
   "cell_type": "markdown",
   "metadata": {
    "pycharm": {
     "name": "#%% md\n"
    }
   },
   "source": [
    "Major/common concept extraction"
   ]
  },
  {
   "cell_type": "code",
   "execution_count": 7,
   "metadata": {
    "pycharm": {
     "is_executing": true,
     "name": "#%%\n"
    }
   },
   "outputs": [
    {
     "name": "stdout",
     "output_type": "stream",
     "text": [
      "major named concepts: \n",
      "[('Request Fulfilment', 4), ('Service Operation', 2), ('IT', 2), ('Incident Management', 2), ('’', 2), ('SLA', 2), ('Service Transition', 2), ('Service Design', 2), ('Please', 1), ('Chapters', 1), ('Management', 1), ('Problem Management', 1), ('Known Error', 1), ('Incident', 1), ('Problem Records', 1), ('Access', 1), ('HR', 1), ('Access Management', 1), ('Identity', 1), ('Rights', 1), ('Service Management Lifecycle', 1), ('Change Management', 1), ('Configuration Management', 1), ('Release Management', 1), ('Capacity', 1), ('Availability Management', 1), ('Financial Management', 1), ('Service Strategy', 1), ('Knowledge Management', 1), ('IT Service Continuity', 1), ('Service Reporting', 1), ('Measurement', 1), ('Continual Service Improvement', 1)]\n",
      "\n",
      "other concepts: \n",
      "[('process', 7), ('publication', 7), ('incidents', 6), ('users', 5), ('processes', 4), ('requests', 4), ('detail', 3), ('chapter', 3), ('service', 3), ('organizations', 3), ('events', 2), ('Incidents', 2), ('visibility', 2), ('customer', 2), ('user requests', 2), ('practice', 2), ('Management', 2), ('aspects', 2), ('paragraph', 1), ('reference', 1), ('structure', 1), ('note', 1), ('roles', 1), ('tools', 1), ('monitors', 1), ('infrastructure', 1), ('operation', 1), ('exception conditions', 1), ('order', 1), ('business impact', 1), ('root-cause analysis', 1), ('cause', 1), ('activities', 1), ('problems/incidents', 1), ('subprocess', 1), ('quicker diagnosis', 1), ('resolution', 1), ('NOTE', 1), ('distinction', 1), ('problems', 1), ('danger', 1), ('support cycle', 1), ('actions', 1), ('recurrence', 1), ('root cause analysis', 1), ('user', 1), ('s service', 1), ('targets', 1), ('expectations', 1), ('results', 1)]\n",
      "\n",
      "all noun phrases: \n",
      "[('incidents', 6), ('process', 5), ('users', 5), ('processes', 4), ('requests', 4), ('detail', 3), ('chapter', 3), ('service', 3), ('organizations', 3), ('Service Operation', 2), ('events', 2), ('Incidents', 2), ('visibility', 2), ('Request Fulfilment', 2), ('customer', 2), ('user requests', 2), ('Request Fulfilment process', 2), ('practice', 2), ('Access Management', 2), ('aspects', 2), ('Service Transition publication', 2), ('Service Design publication', 2), ('paragraph', 1), ('reference', 1), ('structure', 1), ('Please note', 1), ('roles', 1), ('tools', 1), ('Chapters', 1), ('Management', 1), ('monitors', 1), ('IT infrastructure', 1), ('operation', 1), ('exception conditions', 1), ('Incident Management', 1), ('order', 1), ('business impact', 1), ('Problem Management', 1), ('root-cause analysis', 1), ('cause', 1), ('activities', 1), ('problems/incidents', 1), ('Known Error subprocess', 1), ('quicker diagnosis', 1), ('resolution', 1), ('NOTE', 1), ('distinction', 1), ('problems', 1), ('Incident', 1), ('Problem Records', 1)]\n"
     ]
    }
   ],
   "source": [
    "# concept_relationships = extract_terms(part_of_speech_array, {\"VP\"})\n",
    "# print(concept_relationships)\n",
    "# print(all_noun_phrases)\n",
    "\n",
    "### Perform frequency analysis ###\n",
    "### Concept Extraction Frequency analysis ###\n",
    "major_named_concept_frequency_distribution = nltk.FreqDist(major_named_concepts)\n",
    "other_concept_frequency_distribution = nltk.FreqDist(other_concepts)\n",
    "all_noun_phrases_frequency_distribution = nltk.FreqDist(all_noun_phrases)\n",
    "\n",
    "print(f\"major named concepts: \\n{major_named_concept_frequency_distribution.most_common(50)}\")\n",
    "print(f\"\\nother concepts: \\n{other_concept_frequency_distribution.most_common(50)}\")\n",
    "print(f\"\\nall noun phrases: \\n{all_noun_phrases_frequency_distribution.most_common(50)}\")"
   ]
  },
  {
   "cell_type": "markdown",
   "metadata": {
    "pycharm": {
     "name": "#%% md\n"
    }
   },
   "source": [
    "Concept relationship extraction"
   ]
  },
  {
   "cell_type": "code",
   "execution_count": 91,
   "metadata": {},
   "outputs": [
    {
     "name": "stdout",
     "output_type": "stream",
     "text": [
      "[('4', 'CD'), ('Service Operation', 'NPhrase'), ('processes', 'VBZ'), ('The', 'DT'), ('processes', 'NNS'), ('listed', 'VBN'), ('in', 'IN'), ('paragraph', 'NN'), ('2.4.5', 'CD'), ('are', 'VBP'), ('discussed', 'VBN'), ('in', 'IN'), ('detail', 'NN'), ('in', 'IN'), ('this', 'DT'), ('chapter', 'NN'), ('.', '.')]\n",
      "----------------------------------------------------------------------------------------------------\n",
      "[('As', 'IN'), ('a', 'DT'), ('reference', 'NN'), (',', ','), ('the', 'DT'), ('overall', 'JJ'), ('structure', 'NN'), ('is', 'VBZ'), ('briefly', 'JJ'), ('described', 'VBN'), ('here', 'RB'), ('and', 'CC'), ('then', 'RB'), ('each', 'DT'), ('of', 'IN'), ('the', 'DT'), ('processes', 'NNS'), ('is', 'VBZ'), ('described', 'VBN'), ('in', 'IN'), ('more', 'RBR'), ('detail', 'NN'), ('later', 'RB'), ('in', 'IN'), ('the', 'DT'), ('chapter', 'NN'), ('.', '.')]\n",
      "----------------------------------------------------------------------------------------------------\n",
      "[('Please note', 'NPhrase'), ('that', 'IN'), ('the', 'DT'), ('roles', 'NNS'), ('for', 'IN'), ('each', 'DT'), ('process', 'NN'), ('and', 'CC'), ('the', 'DT'), ('tools', 'NNS'), ('used', 'VBN'), ('for', 'IN'), ('each', 'DT'), ('process', 'NN'), ('are', 'VBP'), ('described', 'VBN'), ('in', 'IN'), ('Chapters', 'NNP'), ('6', 'CD'), ('and', 'CC'), ('7', 'CD'), ('respectively', 'RB'), ('.', '.')]\n",
      "----------------------------------------------------------------------------------------------------\n",
      "[('Event', 'JJ'), ('Management', 'NNP'), ('is', 'VBZ'), ('the', 'DT'), ('process', 'NN'), ('that', 'IN'), ('monitors', 'NNS'), ('all', 'DT'), ('events', 'NNS'), ('that', 'WDT'), ('occur', 'VBP'), ('through', 'IN'), ('the', 'DT'), ('IT infrastructure', 'NPhrase'), ('to', 'TO'), ('allow', 'VB'), ('for', 'IN'), ('normal', 'JJ'), ('operation', 'NN'), ('and', 'CC'), ('also', 'RB'), ('to', 'TO'), ('detect', 'VB'), ('and', 'CC'), ('escalate', 'VB'), ('exception conditions', 'NPhrase'), ('.', '.')]\n",
      "----------------------------------------------------------------------------------------------------\n",
      "[('Incident Management', 'NPhrase'), ('concentrates', 'VBZ'), ('on', 'IN'), ('restoring', 'VBG'), ('the', 'DT'), ('service', 'NN'), ('to', 'TO'), ('users', 'NNS'), ('as', 'RB'), ('quickly', 'RB'), ('as', 'IN'), ('possible', 'JJ'), (',', ','), ('in', 'IN'), ('order', 'NN'), ('to', 'TO'), ('minimize', 'VB'), ('business impact', 'NPhrase'), ('.', '.')]\n",
      "----------------------------------------------------------------------------------------------------\n",
      "[('Problem Management', 'NPhrase'), ('involves', 'VBZ'), ('root-cause analysis', 'NPhrase'), ('to', 'TO'), ('determine', 'VB'), ('and', 'CC'), ('resolve', 'VB'), ('the', 'DT'), ('cause', 'NN'), ('of', 'IN'), ('events', 'NNS'), ('and', 'CC'), ('incidents', 'NNS'), (',', ','), ('proactive', 'JJ'), ('activities', 'NNS'), ('to', 'TO'), ('detect', 'VB'), ('and', 'CC'), ('prevent', 'VB'), ('future', 'JJ'), ('problems/incidents', 'NNS'), ('and', 'CC'), ('a', 'DT'), ('Known Error subprocess', 'NPhrase'), ('to', 'TO'), ('allow', 'VB'), ('quicker diagnosis', 'NPhrase'), ('and', 'CC'), ('resolution', 'NN'), ('if', 'IN'), ('further', 'JJ'), ('incidents', 'NNS'), ('do', 'VBP'), ('occur', 'RB'), ('.', '.')]\n",
      "----------------------------------------------------------------------------------------------------\n",
      "[('NOTE', 'NN'), (':', ':'), ('Without', 'IN'), ('this', 'DT'), ('distinction', 'NN'), ('between', 'IN'), ('incidents', 'NNS'), ('and', 'CC'), ('problems', 'NNS'), (',', ','), ('and', 'CC'), ('keeping', 'VBG'), ('separate', 'JJ'), ('Incident', 'NNP'), ('and', 'CC'), ('Problem Records', 'NPhrase'), (',', ','), ('there', 'EX'), ('is', 'VBZ'), ('a', 'DT'), ('danger', 'NN'), ('that', 'IN'), ('either', 'DT'), (':', ':'), ('?', '.')]\n",
      "----------------------------------------------------------------------------------------------------\n",
      "[('Incidents', 'NNS'), ('will', 'MD'), ('be', 'VB'), ('closed', 'VBN'), ('too', 'RB'), ('early', 'RB'), ('in', 'IN'), ('the', 'DT'), ('overall', 'JJ'), ('support cycle', 'NPhrase'), ('and', 'CC'), ('there', 'EX'), ('will', 'MD'), ('be', 'VB'), ('no', 'DT'), ('actions', 'NNS'), ('taken', 'VBN'), ('to', 'TO'), ('prevent', 'VB'), ('recurrence', 'NN'), ('so', 'IN'), ('the', 'DT'), ('same', 'JJ'), ('incidents', 'NNS'), ('will', 'MD'), ('have', 'VB'), ('to', 'TO'), ('be', 'VB'), ('fixed', 'VBN'), ('over', 'IN'), ('and', 'CC'), ('over', 'RB'), ('again', 'RB'), (',', ','), ('or', 'CC'), ('?', '.')]\n",
      "----------------------------------------------------------------------------------------------------\n",
      "[('Incidents', 'NNS'), ('will', 'MD'), ('be', 'VB'), ('kept', 'VBN'), ('open', 'JJ'), ('so', 'IN'), ('that', 'DT'), ('root cause analysis', 'NPhrase'), ('can', 'MD'), ('be', 'VB'), ('done', 'VBN'), ('and', 'CC'), ('visibility', 'NN'), ('will', 'MD'), ('be', 'VB'), ('lost', 'VBN'), ('of', 'IN'), ('when', 'WRB'), ('the', 'DT'), ('user ’ s service', 'NPhrase'), ('was', 'VBD'), ('actually', 'RB'), ('restored', 'VBN'), ('so', 'RB'), ('SLA targets', 'NPhrase'), ('may', 'MD'), ('not', 'RB'), ('be', 'VB'), ('met', 'VBN'), ('even', 'RB'), ('though', 'IN'), ('the', 'DT'), ('service', 'NN'), ('has', 'VBZ'), ('been', 'VBN'), ('restored', 'VBN'), ('within', 'IN'), ('users', 'NNS'), ('’', 'JJ'), ('expectations', 'NNS'), ('.', '.')]\n",
      "----------------------------------------------------------------------------------------------------\n",
      "[('This', 'DT'), ('often', 'RB'), ('results', 'NNS'), ('in', 'IN'), ('a', 'DT'), ('large', 'JJ'), ('number', 'NN'), ('of', 'IN'), ('open', 'JJ'), ('incidents', 'NNS'), (',', ','), ('many', 'JJ'), ('of', 'IN'), ('which', 'WDT'), ('will', 'MD'), ('never', 'RB'), ('be', 'VB'), ('closed', 'VBN'), ('unless', 'IN'), ('a', 'DT'), ('periodic', 'JJ'), ('‘ purge ’', 'NPhrase'), ('is', 'VBZ'), ('undertaken', 'JJ'), ('.', '.')]\n",
      "----------------------------------------------------------------------------------------------------\n",
      "[('This', 'DT'), ('can', 'MD'), ('be', 'VB'), ('very', 'RB'), ('demotivating', 'JJ'), ('and', 'CC'), ('can', 'MD'), ('prevent', 'VB'), ('effective', 'JJ'), ('visibility', 'NN'), ('of', 'IN'), ('current', 'JJ'), ('issues', 'NNS'), ('.', '.')]\n",
      "----------------------------------------------------------------------------------------------------\n",
      "[('Request Fulfilment', 'NPhrase'), ('involves', 'VBZ'), ('the', 'DT'), ('management', 'NN'), ('of', 'IN'), ('customer', 'NN'), ('or', 'CC'), ('user requests', 'NPhrase'), ('that', 'WDT'), ('are', 'VBP'), ('not', 'RB'), ('generated', 'VBN'), ('as', 'IN'), ('an', 'DT'), ('incident', 'NN'), ('from', 'IN'), ('an', 'DT'), ('unexpected', 'JJ'), ('service delay', 'NPhrase'), ('or', 'CC'), ('disruption', 'NN'), ('.', '.')]\n",
      "----------------------------------------------------------------------------------------------------\n",
      "[('Some', 'DT'), ('organizations', 'NNS'), ('may', 'MD'), ('choose', 'VB'), ('to', 'TO'), ('handle', 'VB'), ('such', 'JJ'), ('requests', 'NNS'), ('as', 'IN'), ('a', 'DT'), ('‘', 'JJ'), ('category ’', 'NPhrase'), ('of', 'IN'), ('incidents', 'NNS'), ('and', 'CC'), ('manage', 'VB'), ('the', 'DT'), ('information', 'NN'), ('through', 'IN'), ('an', 'DT'), ('Incident Management system', 'NPhrase'), ('but', 'CC'), ('others', 'NNS'), ('may', 'MD'), ('choose', 'VB'), ('(', '('), ('because', 'IN'), ('of', 'IN'), ('high', 'JJ'), ('volumes', 'NNS'), ('or', 'CC'), ('business priority', 'NPhrase'), ('of', 'IN'), ('such', 'JJ'), ('requests', 'NNS'), (')', ')'), ('to', 'TO'), ('facilitate', 'VB'), ('the', 'DT'), ('provision', 'NN'), ('of', 'IN'), ('Request Fulfilment', 'NPhrase'), ('capabilities', 'VBZ'), ('separately', 'RB'), ('via', 'IN'), ('the', 'DT'), ('Request Fulfilment process', 'NPhrase'), ('.', '.')]\n",
      "----------------------------------------------------------------------------------------------------\n",
      "[('It', 'PRP'), ('has', 'VBZ'), ('become', 'VBN'), ('popular', 'JJ'), ('practice', 'NN'), ('to', 'TO'), ('use', 'VB'), ('a', 'DT'), ('formal', 'JJ'), ('Request Fulfilment process', 'NPhrase'), ('to', 'TO'), ('manage', 'VB'), ('customer', 'NN'), ('and', 'CC'), ('user requests', 'NPhrase'), ('for', 'IN'), ('all', 'DT'), ('types', 'NNS'), ('of', 'IN'), ('requests', 'NNS'), ('which', 'WDT'), ('include', 'VBP'), ('facilities', 'NNS'), (',', ','), ('moves', 'NNS'), ('and', 'CC'), ('supplies', 'NNS'), ('as', 'RB'), ('well', 'RB'), ('as', 'IN'), ('those', 'DT'), ('specific', 'JJ'), ('to', 'TO'), ('IT services', 'NPhrase'), ('.', '.')]\n",
      "----------------------------------------------------------------------------------------------------\n",
      "[('These', 'DT'), ('requests', 'NNS'), ('are', 'VBP'), ('not', 'RB'), ('generally', 'RB'), ('tied', 'VBN'), ('to', 'TO'), ('the', 'DT'), ('same', 'JJ'), ('SLA measures', 'NPhrase'), ('and', 'CC'), ('separating', 'VBG'), ('the', 'DT'), ('records', 'NNS'), ('and', 'CC'), ('the', 'DT'), ('process flow', 'NPhrase'), ('is', 'VBZ'), ('emerging', 'VBG'), ('as', 'IN'), ('best', 'JJS'), ('practice', 'NN'), ('in', 'IN'), ('many', 'JJ'), ('organizations', 'NNS'), ('.', '.')]\n",
      "----------------------------------------------------------------------------------------------------\n",
      "[('Access Management', 'NPhrase'), (':', ':'), ('this', 'DT'), ('is', 'VBZ'), ('the', 'DT'), ('process', 'NN'), ('of', 'IN'), ('granting', 'VBG'), ('authorized', 'JJ'), ('users', 'NNS'), ('the', 'DT'), ('right', 'NN'), ('to', 'TO'), ('use', 'VB'), ('a', 'DT'), ('service', 'NN'), (',', ','), ('while', 'IN'), ('restricting', 'VBG'), ('access', 'NN'), ('to', 'TO'), ('non-authorized', 'JJ'), ('users', 'NNS'), ('.', '.')]\n",
      "----------------------------------------------------------------------------------------------------\n",
      "[('It', 'PRP'), ('is', 'VBZ'), ('based', 'VBN'), ('on', 'IN'), ('being', 'VBG'), ('able', 'JJ'), ('accurately', 'RB'), ('to', 'TO'), ('identify', 'VB'), ('authorized', 'JJ'), ('users', 'NNS'), ('and', 'CC'), ('then', 'RB'), ('manage', 'VB'), ('their', 'PRP$'), ('ability', 'NN'), ('to', 'TO'), ('access services', 'NPhrase'), ('as', 'IN'), ('required', 'JJ'), ('during', 'IN'), ('different', 'JJ'), ('stages', 'NNS'), ('of', 'IN'), ('their', 'PRP$'), ('human', 'JJ'), ('resources', 'NNS'), ('(', '('), ('HR', 'NNP'), (')', ')'), ('or', 'CC'), ('contractual', 'JJ'), ('lifecycle', 'NN'), ('.', '.')]\n",
      "----------------------------------------------------------------------------------------------------\n",
      "[('Access Management', 'NPhrase'), ('has', 'VBZ'), ('also', 'RB'), ('been', 'VBN'), ('called', 'VBN'), ('Identity', 'NNP'), ('or', 'CC'), ('Rights Management', 'NPhrase'), ('in', 'IN'), ('some', 'DT'), ('organizations', 'NNS'), ('.', '.')]\n",
      "----------------------------------------------------------------------------------------------------\n",
      "[('In', 'IN'), ('addition', 'NN'), (',', ','), ('there', 'EX'), ('are', 'VBP'), ('several', 'JJ'), ('other', 'JJ'), ('processes', 'NNS'), ('that', 'WDT'), ('will', 'MD'), ('be', 'VB'), ('executed', 'VBN'), ('or', 'CC'), ('supported', 'VBN'), ('during', 'IN'), ('Service Operation', 'NPhrase'), (',', ','), ('but', 'CC'), ('which', 'WDT'), ('are', 'VBP'), ('driven', 'VBN'), ('during', 'IN'), ('other', 'JJ'), ('phases', 'NNS'), ('of', 'IN'), ('the', 'DT'), ('Service Management Lifecycle', 'NPhrase'), ('.', '.')]\n",
      "----------------------------------------------------------------------------------------------------\n",
      "[('The', 'DT'), ('operational', 'JJ'), ('aspects', 'NNS'), ('of', 'IN'), ('these', 'DT'), ('processes', 'NNS'), ('will', 'MD'), ('be', 'VB'), ('discussed', 'VBN'), ('in', 'IN'), ('the', 'DT'), ('final', 'JJ'), ('part', 'NN'), ('of', 'IN'), ('this', 'DT'), ('chapter', 'NN'), ('and', 'CC'), ('include', 'NN'), (':', ':'), ('Change Management', 'NPhrase'), (',', ','), ('a', 'DT'), ('major', 'JJ'), ('process', 'NN'), ('which', 'WDT'), ('should', 'MD'), ('be', 'VB'), ('closely', 'RB'), ('linked', 'VBN'), ('to', 'TO'), ('Configuration Management', 'NPhrase'), ('and', 'CC'), ('Release Management', 'NPhrase'), ('.', '.')]\n",
      "----------------------------------------------------------------------------------------------------\n",
      "[('These', 'DT'), ('topics', 'NNS'), ('are', 'VBP'), ('primarily', 'RB'), ('covered', 'VBN'), ('in', 'IN'), ('the', 'DT'), ('Service Transition publication', 'NPhrase'), ('.', '.')]\n",
      "----------------------------------------------------------------------------------------------------\n",
      "[('Capacity', 'NNP'), ('and', 'CC'), ('Availability Management', 'NPhrase'), (',', ','), ('the', 'DT'), ('operational', 'JJ'), ('aspects', 'NNS'), ('of', 'IN'), ('which', 'WDT'), ('are', 'VBP'), ('covered', 'VBN'), ('in', 'IN'), ('this', 'DT'), ('publication', 'NN'), (',', ','), ('but', 'CC'), ('which', 'WDT'), ('are', 'VBP'), ('covered', 'VBN'), ('in', 'IN'), ('more', 'JJR'), ('detail', 'NN'), ('in', 'IN'), ('the', 'DT'), ('Service Design publication', 'NPhrase'), ('.', '.')]\n",
      "----------------------------------------------------------------------------------------------------\n",
      "[('Financial Management', 'NPhrase'), (',', ','), ('which', 'WDT'), ('is', 'VBZ'), ('covered', 'VBN'), ('in', 'IN'), ('the', 'DT'), ('Service Strategy publication', 'NPhrase'), ('.', '.')]\n",
      "----------------------------------------------------------------------------------------------------\n",
      "[('Knowledge Management', 'NPhrase'), (',', ','), ('which', 'WDT'), ('is', 'VBZ'), ('covered', 'VBN'), ('in', 'IN'), ('the', 'DT'), ('Service Transition publication', 'NPhrase'), ('.', '.')]\n",
      "----------------------------------------------------------------------------------------------------\n",
      "[('IT Service Continuity', 'NPhrase'), (',', ','), ('which', 'WDT'), ('is', 'VBZ'), ('covered', 'VBN'), ('in', 'IN'), ('the', 'DT'), ('Service Design publication', 'NPhrase'), ('.', '.')]\n",
      "----------------------------------------------------------------------------------------------------\n",
      "[('Service Reporting', 'NPhrase'), ('and', 'CC'), ('Measurement', 'NNP'), (',', ','), ('which', 'WDT'), ('are', 'VBP'), ('covered', 'VBN'), ('in', 'IN'), ('the', 'DT'), ('Continual Service Improvement publication', 'NPhrase'), ('.', '.')]\n",
      "----------------------------------------------------------------------------------------------------\n"
     ]
    }
   ],
   "source": [
    "def get_sentence_at_index(part_of_speech_array, index):\n",
    "    sentence_starting_index = 0\n",
    "    sentence_end_index = len(part_of_speech_array)\n",
    "    \n",
    "    ### Get sentence start index ###\n",
    "    for i in range(0, index):\n",
    "#         print(part_of_speech_array[index])\n",
    "        if part_of_speech_array[index - i][1] == \".\":\n",
    "            sentence_starting_index = index - i\n",
    "            break\n",
    "    \n",
    "    ### Get sentence end index ###\n",
    "    for i in range(0, len(part_of_speech_array)):\n",
    "        if part_of_speech_array[index + i][1] == \".\":\n",
    "            sentence_end_index = index + i\n",
    "            break\n",
    "            \n",
    "    return (sentence_starting_index, sentence_end_index + 1)\n",
    "\n",
    "### Term Extraction (NNP next to each other) ###\n",
    "def extract_terms(part_of_speech_array_array, tags_to_use):\n",
    "    part_of_speech_array_with_terms = []\n",
    "    \n",
    "    terms_array = []\n",
    "    term_phrase = []\n",
    "    start_new_term = True\n",
    "    for index, part in enumerate(part_of_speech_array_array):\n",
    "        if(part[1] in tags_to_use):\n",
    "            term_phrase.append(part[0])\n",
    "            start_new_term = False if part_of_speech_array_array[index + 1][1] in tags_to_use else True\n",
    "\n",
    "            if start_new_term == True:\n",
    "                if len(term_phrase) > 1:\n",
    "#                     part_of_speech_array_with_terms.append((\" \".join(term_phrase), f\"NPhrase-{part[1]}\"))\n",
    "                    part_of_speech_array_with_terms.append((\" \".join(term_phrase), \"NPhrase\"))\n",
    "                else:\n",
    "                    part_of_speech_array_with_terms.append((\" \".join(term_phrase), part[1]))\n",
    "                term_phrase = []\n",
    "        else:\n",
    "            part_of_speech_array_with_terms.append((part[0], part[1]))\n",
    "    return part_of_speech_array_with_terms\n",
    "\n",
    "part_of_speech_array_with_terms = extract_terms(part_of_speech_array, {\"NNP\", \"NNPS\", \"NN\", \"NNS\"})\n",
    "# print(part_of_speech_array_with_terms)\n",
    "\n",
    "sentences = []\n",
    "temp_sentence = []\n",
    "for word in part_of_speech_array_with_terms:\n",
    "    if word[1] is \".\":\n",
    "        temp_sentence.append(word)\n",
    "        sentences.append(temp_sentence)\n",
    "        temp_sentence = []\n",
    "    else:\n",
    "        temp_sentence.append(word)\n",
    "        \n",
    "for sentence in sentences:\n",
    "    print(sentence)\n",
    "    print(\"-\" * 100)\n",
    "    \n"
   ]
  },
  {
   "cell_type": "code",
   "execution_count": 10,
   "metadata": {
    "pycharm": {
     "is_executing": false,
     "name": "#%%\n"
    }
   },
   "outputs": [],
   "source": [
    "most_common_major_concepts = major_named_concept_frequency_distribution.most_common(50)\n",
    "# print(most_common_major_concepts)\n",
    "# print(tokens.index(most_common_major_concepts[0][0]))\n",
    "# print(part_of_speech_array[206])\n",
    "## Get indices of all common concepts\n",
    "indices = [i for i, x in enumerate(part_of_speech_array) if x[0] == most_common_major_concepts[0][0]]\n",
    "# print(indices)\n",
    "# print(most_common_major_concepts[1][0])\n",
    "\n",
    "def get_sentence_at_index(part_of_speech_array, index):\n",
    "    sentence_starting_index = 0\n",
    "    sentence_end_index = len(part_of_speech_array)\n",
    "    \n",
    "    ### Get sentence start index ###\n",
    "    for i in range(0, index):\n",
    "        if part_of_speech_array[index - i][1] == \".\":\n",
    "            sentence_starting_index = index - i\n",
    "            break\n",
    "    \n",
    "    ### Get sentence end index ###\n",
    "    for i in range(0, index):\n",
    "        if part_of_speech_array[index + i][1] == \".\":\n",
    "            sentence_end_index = index + i\n",
    "            break\n",
    "            \n",
    "    return (sentence_starting_index + 1, sentence_end_index + 1)\n",
    "\n",
    "def does_list_contain_verb_pos(part_of_speech_array):\n",
    "    for word_pos in part_of_speech_array:\n",
    "        if word_pos[1] in ['VB', 'VBD', 'VBG', 'VBN', 'VBP', 'VBZ']:\n",
    "            return True\n",
    "    return False\n",
    "    \n",
    "# sentence_index = get_sentence_at_index(part_of_speech_array, indices[0])\n",
    "# print(sentence_index)\n",
    "\n",
    "concept_relations = []\n",
    "\n",
    "i = 0\n",
    "for index in indices:\n",
    "#     if i < 3:\n",
    "#         i = i + 1\n",
    "#         continue\n",
    "    sentence_pos_containing_concept = part_of_speech_array[\n",
    "        get_sentence_at_index(part_of_speech_array, index)[0]:\n",
    "        get_sentence_at_index(part_of_speech_array, index)[1]\n",
    "    ]\n",
    "    print(sentence_pos_containing_concept)\n",
    "        \n",
    "    last_concept = ()\n",
    "    last_concept_index = -1\n",
    "    # For word part_of_speech in sentence_part_of_speech_containing_concept\n",
    "    for index, word_pos in enumerate(sentence_pos_containing_concept):\n",
    "#         print(f\"{word_pos[0]}: {word_pos[1]}\")\n",
    "#         print(word_pos[0] in all_noun_phrases)\n",
    "        \n",
    "#         if (word_pos[0] in all_noun_phrases):\n",
    "        if (word_pos[0] in major_named_concepts):\n",
    "            if last_concept_index != -1:# and does_list_contain_verb_pos(sentence_pos_containing_concept[last_concept_index + 1:index]):\n",
    "                concept_relations.append(f\"{last_concept}::{sentence_pos_containing_concept[last_concept_index + 1:index]}::{word_pos}\")\n",
    "            \n",
    "            last_concept = word_pos\n",
    "            last_concept_index = index\n",
    "        \n",
    "    # print(related_concepts)\n",
    "    # print()\n",
    "    \n",
    "#     print('-----')\n",
    "    i = i + 1\n",
    "#     if i == 4:\n",
    "#         break\n",
    "\n",
    "# for concept_relation in concept_relations:\n",
    "#     print(concept_relation)\n"
   ]
  },
  {
   "cell_type": "markdown",
   "metadata": {
    "pycharm": {
     "is_executing": false,
     "name": "#%% md\n"
    }
   },
   "source": [
    "Accuract metrics for term extraction chapter 4 first section"
   ]
  },
  {
   "cell_type": "code",
   "execution_count": 9,
   "metadata": {
    "pycharm": {
     "name": "#%%\n"
    }
   },
   "outputs": [
    {
     "name": "stdout",
     "output_type": "stream",
     "text": [
      "74\n",
      "100\n",
      "80\n",
      "150\n",
      "98\n",
      "107\n"
     ]
    }
   ],
   "source": [
    "automatic_concepts_file_path = \"ITIL Books/ITIL 3/Service operation chapter 4/Automated concepts extracted/4/Automated concepts extracted 4.txt\"\n",
    "manual_concepts_file_path = \"ITIL Books/ITIL 3/Service operation chapter 4/Automated concepts extracted/4/Manual concepts extracted 4.txt\"\n",
    "\n",
    "\n",
    "with open(automatic_concepts_file_path, 'r') as file:\n",
    "    automatic_concepts = file.read()\n",
    "\n",
    "with open(manual_concepts_file_path, 'r') as file:\n",
    "    manual_concepts = file.read()\n",
    "\n",
    "manual_concepts_list = manual_concepts.split('\\n')\n",
    "manual_concepts_list = [x.lower() for x in manual_concepts_list]\n",
    "\n",
    "# print(\"Manual concepts\")\n",
    "# print(list(dict.fromkeys(manual_concepts_list)))\n",
    "# print()\n",
    "\n",
    "automatic_concepts_list = ['Service Operation', 'processes', 'paragraph', 'detail', 'chapter', 'reference', 'structure', 'processes', 'detail', 'chapter', 'Please note', 'roles', 'process', 'tools', 'process', 'Chapters', 'Management', 'process', 'monitors', 'events', 'IT infrastructure', 'operation', 'exception conditions', 'Incident Management', 'service', 'users', 'order', 'business impact', 'Problem Management', 'root-cause analysis', 'cause', 'events', 'incidents', 'activities', 'problems/incidents', 'Known Error subprocess', 'quicker diagnosis', 'resolution', 'incidents', 'NOTE', 'distinction', 'incidents', 'problems', 'Incident', 'Problem Records', 'danger', 'Incidents', 'support cycle', 'actions', 'recurrence', 'incidents', 'Incidents', 'root cause analysis', 'visibility', 'user ’ s service', 'SLA targets', 'service', 'users', 'expectations', 'results', 'number', 'incidents', '‘ purge ’', 'visibility', 'issues', 'Request Fulfilment', 'management', 'customer', 'user requests', 'incident', 'service delay', 'disruption', 'organizations', 'requests', 'category ’', 'incidents', 'information', 'Incident Management system', 'others', 'volumes', 'business priority', 'requests', 'provision', 'Request Fulfilment', 'Request Fulfilment process', 'practice', 'Request Fulfilment process', 'customer', 'user requests', 'types', 'requests', 'facilities', 'moves', 'supplies', 'IT services', 'requests', 'SLA measures', 'records', 'process flow', 'practice', 'organizations', 'Access Management', 'process', 'users', 'right', 'service', 'access', 'users', 'users', 'ability', 'access services', 'stages', 'resources', 'HR', 'lifecycle', 'Access Management', 'Identity', 'Rights Management', 'organizations', 'addition', 'processes', 'Service Operation', 'phases', 'Service Management Lifecycle', 'aspects', 'processes', 'part', 'chapter', 'include', 'Change Management', 'process', 'Configuration Management', 'Release Management', 'topics', 'Service Transition publication', 'Capacity', 'Availability Management', 'aspects', 'publication', 'detail', 'Service Design publication', 'Financial Management', 'Service Strategy publication', 'Knowledge Management', 'Service Transition publication', 'IT Service Continuity', 'Service Design publication', 'Service Reporting', 'Measurement', 'Continual Service Improvement publication']\n",
    "automatic_concepts_list = [x.lower() for x in automatic_concepts_list]\n",
    "\n",
    "# print(\"all noun phrases\")\n",
    "# print(list(dict.fromkeys(automatic_concepts_list)))\n",
    "\n",
    "count = 0\n",
    "for concept in manual_concepts_list:\n",
    "    if concept in automatic_concepts_list:\n",
    "        count = count + 1\n",
    "\n",
    "number_of_fully_correct_manual_concepts = count\n",
    "print(number_of_fully_correct_manual_concepts)\n",
    "\n",
    "number_of_manual_concepts = len(manual_concepts_list)\n",
    "print(number_of_manual_concepts)\n",
    "\n",
    "count = 0\n",
    "for concept in automatic_concepts_list:\n",
    "    if concept in manual_concepts_list:\n",
    "        count = count + 1\n",
    "    \n",
    "number_of_fully_correct_automatic_concepts = count\n",
    "print(number_of_fully_correct_automatic_concepts)\n",
    "\n",
    "number_of_automatic_concepts = len(automatic_concepts_list)\n",
    "print(number_of_automatic_concepts)\n",
    "\n",
    "# Lists to words for partial matches\n",
    "automatic_concepts_list_single_words = [x.split() for x in automatic_concepts_list]\n",
    "# print(automatic_concepts_list_single_words)\n",
    "\n",
    "manual_concepts_list_single_words = [x.split() for x in manual_concepts_list]\n",
    "# print(manual_concepts_list_single_words)\n",
    "\n",
    "count = 0\n",
    "for concept in manual_concepts_list_single_words:\n",
    "    for word in concept:\n",
    "        if word in ' '.join(automatic_concepts_list).split():\n",
    "            count = count + 1\n",
    "            break\n",
    "        \n",
    "number_of_full_and_partial_correct_manual_concepts = count\n",
    "print(number_of_full_and_partial_correct_manual_concepts)\n",
    "\n",
    "count = 0\n",
    "for concept in automatic_concepts_list_single_words:\n",
    "    for word in concept:\n",
    "        if word in ' '.join(manual_concepts_list).split():\n",
    "            count = count + 1\n",
    "            break\n",
    "            \n",
    "number_of_full_and_partial_correct_automatic_concepts = count\n",
    "print(number_of_full_and_partial_correct_automatic_concepts)"
   ]
  }
 ],
 "metadata": {
  "kernelspec": {
   "display_name": "Python 3",
   "language": "python",
   "name": "python3"
  },
  "language_info": {
   "codemirror_mode": {
    "name": "ipython",
    "version": 3
   },
   "file_extension": ".py",
   "mimetype": "text/x-python",
   "name": "python",
   "nbconvert_exporter": "python",
   "pygments_lexer": "ipython3",
   "version": "3.7.3"
  },
  "pycharm": {
   "stem_cell": {
    "cell_type": "raw",
    "metadata": {
     "collapsed": false
    },
    "source": []
   }
  }
 },
 "nbformat": 4,
 "nbformat_minor": 2
}
