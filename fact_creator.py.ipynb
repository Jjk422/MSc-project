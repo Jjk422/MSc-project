{
 "cells": [
  {
   "cell_type": "markdown",
   "metadata": {},
   "source": [
    "Global variables"
   ]
  },
  {
   "cell_type": "code",
   "execution_count": 1,
   "metadata": {},
   "outputs": [],
   "source": [
    "Templates_fact_file_path = \"Manual Ontologies/fact_templates\"\n",
    "Templates_question_file_path = \"\"\n",
    "Ontology_file_path = \"Manual Ontologies/ITIL 3 manual ontology service operation  test ontology new relation format\""
   ]
  },
  {
   "cell_type": "markdown",
   "metadata": {},
   "source": [
    "Import statements"
   ]
  },
  {
   "cell_type": "code",
   "execution_count": 2,
   "metadata": {},
   "outputs": [],
   "source": [
    "import xml.etree.ElementTree as ET\n",
    "import re\n",
    "import random"
   ]
  },
  {
   "cell_type": "markdown",
   "metadata": {},
   "source": [
    "Global functions"
   ]
  },
  {
   "cell_type": "code",
   "execution_count": 3,
   "metadata": {},
   "outputs": [],
   "source": [
    "def get_templates_from_file(file_path):\n",
    "    templates = []\n",
    "    with open(file_path, 'r') as file:\n",
    "        for line in file:\n",
    "            templates.append(line)\n",
    "            \n",
    "    return templates\n",
    "\n",
    "def select_random_template_from_file(file_path):\n",
    "    return get_templates_from_file(file_path)[random.randint(0, len(get_templates_from_file(file_path)) - 1)]"
   ]
  },
  {
   "cell_type": "markdown",
   "metadata": {},
   "source": [
    "Main"
   ]
  },
  {
   "cell_type": "code",
   "execution_count": 6,
   "metadata": {},
   "outputs": [
    {
     "name": "stdout",
     "output_type": "stream",
     "text": [
      "{'service_operation': {'parent': [], 'child': []}, 'has_process_called': {'parent': [], 'child': []}, 'event_management': {'parent': [], 'child': []}, 'is': {'parent': [], 'child': []}, 'has': {'parent': [], 'child': []}, 'event': {'parent': [], 'child': []}, 'is_defined_as': {'parent': [], 'child': []}, 'are_typically': {'parent': [], 'child': []}, 'purpose_is_to': {'parent': [], 'child': []}, 'incident_management': {'parent': [], 'child': []}, 'concentrates': {'parent': [], 'child': []}, 'problem_management': {'parent': [], 'child': []}, 'involves': {'parent': [], 'child': []}, 'request_fulfilment': {'parent': [], 'child': []}, 'access_management': {'parent': [], 'child': []}}\n"
     ]
    }
   ],
   "source": [
    "root = ET.parse(Ontology_file_path).getroot()\n",
    "tree = ET.parse(Ontology_file_path)\n",
    "test = []\n",
    "testDict = {\n",
    "#     'service_operation': {'parent': ['relationship::concept'], 'child': ['relationship::concept']} ,\n",
    "#     'service_operation': [ 'parent_relation': [], 'parent_concept': [], 'child_concept': [], 'child_relation': [] ],\n",
    "#     'event_management': [ 'parent_relation': [], 'parent_concept': [], 'child_concept': [], 'child_relation': [] ],\n",
    "}\n",
    "\n",
    "def addElementToDictionary(element):\n",
    "    if element.tag not in testDict:\n",
    "        testDict[element.tag] = {}\n",
    "        testDict[element.tag]['parent'] = []\n",
    "        testDict[element.tag]['child'] = []\n",
    "        \n",
    "#     testDict[element.tag] = element.\n",
    "        \n",
    "for element in tree.iter():\n",
    "    if element.attrib != 'relationship':\n",
    "        addElementToDictionary(element)\n",
    "    \n",
    "#     parent = root.tag\n",
    "#     testDict[root.tag] = {}\n",
    "#     testDict[root.tag]['parent'] = []\n",
    "#     testDict[root.tag]['child'] = []\n",
    "    \n",
    "# for relationship in root:\n",
    "#     for child_node in relationship:\n",
    "#         test.append(f\"{root.tag}::{relationship.tag}::{child_node.tag}\")\n",
    "        \n",
    "# print(test)\n",
    "# for type_tag in root.findall(\"has_process_called\"):\n",
    "#     print(type_tag.tag)\n",
    "#     value = type_tag.get('parent_relations')\n",
    "#     print(value)\n",
    "\n",
    "# root = ET.parse(Ontology_file_path).getroot()\n",
    "# print(root.tag)\n",
    "# print(root.attrib)\n",
    "\n",
    "# for child in root:\n",
    "#     print(child.tag)\n",
    "\n",
    "# print(select_random_template_from_file(Templates_fact_file_path))\n",
    "# print(get_templates_from_file(Templates_fact_file_path)[0])\n",
    "print(testDict)\n",
    "\n",
    "# root_concept = start node name\n",
    "# parent_relation = parent relation name\n",
    "# parent_concept = parent concept name\n",
    "# child_relation = child relation name\n",
    "# child_concept = child concept node name\n",
    "\n",
    "\n",
    "# fact = re.sub(\n",
    "#            r\"\", \n",
    "#            \"\", \n",
    "#            line\n",
    "#        )"
   ]
  }
 ],
 "metadata": {
  "kernelspec": {
   "display_name": "Python 3",
   "language": "python",
   "name": "python3"
  },
  "language_info": {
   "codemirror_mode": {
    "name": "ipython",
    "version": 3
   },
   "file_extension": ".py",
   "mimetype": "text/x-python",
   "name": "python",
   "nbconvert_exporter": "python",
   "pygments_lexer": "ipython3",
   "version": "3.7.3"
  }
 },
 "nbformat": 4,
 "nbformat_minor": 2
}
