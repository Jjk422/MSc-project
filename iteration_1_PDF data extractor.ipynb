{
 "cells": [
  {
   "cell_type": "markdown",
   "metadata": {},
   "source": [
    "Global Variables"
   ]
  },
  {
   "cell_type": "code",
   "execution_count": 176,
   "metadata": {
    "pycharm": {
     "is_executing": false
    }
   },
   "outputs": [],
   "source": [
    "import print_metrics\n",
    "\n",
    "file_path = \"ITIL Books/ITIL 3/ITIL3 Service Operation chapter 4.pdf\"\n",
    "# extracted_text_file_path = \"ITIL Books/ITIL 3/Continual service improvement chapter from notebook.txt\"\n",
    "# extracted_text_file_path = \"ITIL Books/ITIL 3/Service operation chapter 4/Service operation chapter 4 - 4.txt\"\n",
    "# extracted_text_file_path = \"ITIL Books\\ITIL 3\\Service operation chapter 4\\Automated concepts extracted\\\\4.2\\Service operation chapter 4 - 4.2 to 4.2.4 .txt\"\n",
    "output_file_path = \"output/ITIL3 Continual Service Improvement.txt\"\n",
    "\n",
    "# Uncomment a single extracted_text_file_path and a single manual_concepts_file_path to run metric tests on that\n",
    "# specific chapter subsection, e.g. 4.1 is uncommented now so metrics will be calculated for it within the last cell\n",
    "# of the notebook\n",
    "\n",
    "lemmatize = False\n",
    "# lemmatize = True\n",
    "\n",
    "### Chapter 4 start ###\n",
    "# extracted_text_file_path = print_metrics.get_extracted_text_file_path(4) \n",
    "# manual_concepts_file_path = print_metrics.get_manual_concepts_file_path(4)\n",
    "\n",
    "### Chapter 4 - 4.1 to 4.1.4 ###\n",
    "extracted_text_file_path = print_metrics.get_extracted_text_file_path(4.1) \n",
    "manual_concepts_file_path = print_metrics.get_manual_concepts_file_path(4.1)\n",
    "\n",
    "### Chapter 4 - 4.2 to 4.2.4 ###\n",
    "# extracted_text_file_path = print_metrics.get_extracted_text_file_path(4.2) \n",
    "# manual_concepts_file_path = print_metrics.get_manual_concepts_file_path(4.2)\n",
    "\n",
    "# ### Chapter 4 - 4.3 to 4.3.4 ###\n",
    "# extracted_text_file_path = print_metrics.get_extracted_text_file_path(4.3) \n",
    "# manual_concepts_file_path = print_metrics.get_manual_concepts_file_path(4.3)\n",
    "\n",
    "# ### Chapter 4 - 4.4 to 4.4.4 ###\n",
    "# extracted_text_file_path = print_metrics.get_extracted_text_file_path(4.4) \n",
    "# manual_concepts_file_path = print_metrics.get_manual_concepts_file_path(4.4)\n",
    "\n",
    "# ### Chapter 4 - 4.5 to 4.5.4 ###\n",
    "# extracted_text_file_path = print_metrics.get_extracted_text_file_path(4.5) \n",
    "# manual_concepts_file_path = print_metrics.get_manual_concepts_file_path(4.5)\n",
    "\n",
    "# ### Chapter 4 - 4.6 to 4.6.4 ###\n",
    "# extracted_text_file_path = print_metrics.get_extracted_text_file_path(4.6) \n",
    "# manual_concepts_file_path = print_metrics.get_manual_concepts_file_path(4.6)"
   ]
  },
  {
   "cell_type": "markdown",
   "metadata": {},
   "source": [
    "Imports"
   ]
  },
  {
   "cell_type": "code",
   "execution_count": 177,
   "metadata": {
    "pycharm": {
     "is_executing": false
    }
   },
   "outputs": [],
   "source": [
    "import pdfminer\n",
    "import nltk\n",
    "import re"
   ]
  },
  {
   "cell_type": "markdown",
   "metadata": {},
   "source": [
    "Global Functions"
   ]
  },
  {
   "cell_type": "code",
   "execution_count": 178,
   "metadata": {
    "pycharm": {
     "is_executing": false
    }
   },
   "outputs": [],
   "source": [
    "with open(extracted_text_file_path, 'r') as file:\n",
    "    extracted_text = file.read()\n",
    "    \n",
    "# extracted_text = \"Particle dynamics involves the study of physics and chemistry\"\n",
    "\n",
    "# tokens = nltk.word_tokenize(extracted_text)\n",
    "# print(tokens)\n",
    "\n",
    "# ### Part of speech tagging ###\n",
    "# part_of_speech_array = nltk.pos_tag(tokens)\n",
    "# print(part_of_speech_array)\n"
   ]
  },
  {
   "cell_type": "markdown",
   "metadata": {
    "pycharm": {
     "is_executing": false,
     "name": "#%% md\n"
    },
    "scrolled": false
   },
   "source": [
    "Text sanitization and word tokenizing"
   ]
  },
  {
   "cell_type": "code",
   "execution_count": 179,
   "metadata": {
    "pycharm": {
     "is_executing": false,
     "name": "#%%\n"
    }
   },
   "outputs": [],
   "source": [
    "### Grab sections from text ###\n",
    "# print(re.findall(\"^\\d(\\.|\\d)*(\\s|\\w)*$\", extracted_text))\n",
    "# title_pattern = re.compile(r\"^\\d(\\.|\\d)*(\\s|\\w)*$\", re.MULTILINE)\n",
    "title_pattern = re.compile(r\"^\\d+.*$\", re.MULTILINE)\n",
    "\n",
    "sections = title_pattern.findall(extracted_text)\n",
    "for counter, section in enumerate(sections):\n",
    "    if not (section.find(\"%\") == -1 and section.find(\")\") == -1):\n",
    "        sections.remove(section)\n",
    "\n",
    "### Sanitise extracted text ###\n",
    "extracted_text_sanitised = extracted_text\n",
    "extracted_text_sanitised = extracted_text.replace(\"¦\", \"\")\n",
    "extracted_text_sanitised = extracted_text_sanitised.replace(\"–\", \"\")\n",
    "        \n",
    "### Tokenise extracted text ###\n",
    "tokens = nltk.word_tokenize(extracted_text_sanitised)\n",
    "# print(tokens)\n"
   ]
  },
  {
   "cell_type": "markdown",
   "metadata": {},
   "source": [
    "Part to speech tagging"
   ]
  },
  {
   "cell_type": "code",
   "execution_count": 180,
   "metadata": {
    "pycharm": {
     "is_executing": false,
     "name": "#%%\n"
    }
   },
   "outputs": [],
   "source": [
    "### Part of speech tagging ###\n",
    "part_of_speech_array = nltk.pos_tag(tokens)\n",
    "# print(part_of_speech_array)\n",
    "\n",
    "from nltk.stem import WordNetLemmatizer \n",
    "lemmatizer = WordNetLemmatizer()\n",
    "\n",
    "def lemmatize_part_of_speech_array(part_of_speech_array):\n",
    "    part_of_speech_array_lemmatized = []\n",
    "    \n",
    "    for part_of_speech in part_of_speech_array:\n",
    "        part_of_speech_array_lemmatized.append(\n",
    "            (lemmatizer.lemmatize(part_of_speech[0]), part_of_speech[1])\n",
    "        ) \n",
    "    return part_of_speech_array_lemmatized\n",
    "    \n",
    "# print(part_of_speech_array_lemmatized)\n",
    "\n",
    "# Uncomment this if lemmatization is to be used\n",
    "if lemmatize:\n",
    "    part_of_speech_array = lemmatize_part_of_speech_array(part_of_speech_array)"
   ]
  },
  {
   "cell_type": "markdown",
   "metadata": {
    "pycharm": {
     "name": "#%% md\n"
    }
   },
   "source": [
    "Term extraction"
   ]
  },
  {
   "cell_type": "code",
   "execution_count": 181,
   "metadata": {
    "pycharm": {
     "is_executing": false,
     "name": "#%%\n"
    }
   },
   "outputs": [
    {
     "name": "stdout",
     "text": [
      "major named concepts: \n['OPERATIONAL ACTIVITIES OF PROCESSES COVERED IN OTHER LIFECYCLE PHASES', 'Change Management Change Management', 'Service Transition', 'Change Management', 'Service Operation', 'Raising', 'RFCs', 'Service Operation', 'CAB', 'CAB/EC', 'Service Operation', 'ï¿½ Implementing', 'Change Management', 'Service Operation', 'Change Management', 'Service Operation', 'Helping', 'Service Operation', 'Service Operation', 'Change Management', 'Configuration Management Configuration Management', 'Service Transition', 'Configuration Management', 'Service Operation', 'Informing Configuration Management', 'CIs', 'CMS ï¿½ Making', 'Configuration Management', 'Service Operation', 'Responsibility', 'CMS', 'Configuration Management', 'Operations', 'Configuration Management', 'CIs', 'CIs', 'CMS', 'Operations', 'Release', 'Deployment Management Release', 'Deployment Management', 'Service Transition', 'Service Operation', 'Actual', 'Release', 'Deployment Management', 'Service Operation', 'Participation', 'Service Operation', 'CIs', 'DML', 'Release', 'Deployment Management']\n\nother concepts: \n['publication', 'aspect', 'staff', 'basis', 'issue', 'meeting', 'risk', 'issue', 'view', 'account', 'change', 'component', 'service', 'change', 'component', 'service', 'define', 'maintain change model', 'component', 'service', 'change schedule', 'staff', 'change', 'process', 'standard', 'change', 'publication', 'aspect', 'staff', 'basis', 'discrepancy', 'amendment', 'discrepancy', 'authority', 'component', 'service', 'case', 'staff', 'direction', 'relationship', 'mark', 'ï¿½disposedï¿½', 'update', 'activity', 'staff', 'publication', 'aspect', 'process', 'staff', 'basis', 'implementation action', 'deployment', 'release', 'direction', 'component', 'service', 'planning stage', 'release', 'issue', 'handling', 'role', 'procedure', 'item']\n\nall noun phrases: \n['OPERATIONAL ACTIVITIES OF PROCESSES COVERED IN OTHER LIFECYCLE PHASES', 'Change Management Change Management', 'Service Transition publication', 'aspect', 'Change Management', 'Service Operation staff', 'basis', 'Raising', 'RFCs', 'Service Operation issue', 'CAB', 'CAB/EC meeting', 'Service Operation risk', 'issue', 'view', 'account ï¿½ Implementing change', 'Change Management', 'Service Operation component', 'service', 'change', 'Change Management', 'Service Operation component', 'service', 'Helping define', 'maintain change model', 'Service Operation component', 'service', 'change schedule', 'Service Operation staff', 'change', 'Change Management process', 'standard', 'change', 'Configuration Management Configuration Management', 'Service Transition publication', 'aspect', 'Configuration Management', 'Service Operation staff', 'basis', 'Informing Configuration Management', 'discrepancy', 'CIs', 'CMS ï¿½ Making', 'amendment', 'discrepancy', 'authority', 'Configuration Management', 'Service Operation component', 'service', 'Responsibility', 'CMS', 'Configuration Management', 'case Operations staff', 'direction', 'Configuration Management', 'relationship', 'CIs', 'mark CIs', 'ï¿½disposedï¿½', 'CMS', 'update', 'activity', 'Operations staff', 'Release', 'Deployment Management Release', 'Deployment Management', 'Service Transition publication', 'aspect', 'process', 'Service Operation staff', 'basis', 'Actual implementation action', 'deployment', 'release', 'direction', 'Release', 'Deployment Management', 'Service Operation component', 'service', 'Participation', 'planning stage', 'release', 'Service Operation issue', 'handling', 'CIs', 'DML', 'role', 'Release', 'Deployment Management procedure', 'item']\n\nall noun phrases with adj: \n['OPERATIONAL ACTIVITIES OF PROCESSES COVERED IN OTHER LIFECYCLE PHASES', 'Change Management Change Management', 'Service Transition publication', 'aspect', 'Change Management', 'Service Operation staff', 'day-to-day basis', 'ï¿½ Raising', 'RFCs', 'Service Operation issue', 'CAB', 'CAB/EC meeting', 'Service Operation risk', 'issue', 'view', 'account ï¿½ Implementing change', 'Change Management', 'Service Operation component', 'service', 'change', 'Change Management', 'Service Operation component', 'service', 'Helping define', 'maintain change model', 'Service Operation component', 'service', 'change schedule', 'Service Operation staff', 'aware', 'relevant change', 'Change Management process', 'standard', 'operational-type change', 'Configuration Management Configuration Management', 'Service Transition publication', 'aspect', 'Configuration Management', 'Service Operation staff', 'day-to-day basis', 'ï¿½ Informing Configuration Management', 'discrepancy', 'CIs', 'CMS ï¿½ Making', 'amendment necessary', 'discrepancy', 'authority', 'Configuration Management', 'Service Operation component', 'service', 'Responsibility', 'CMS', 'Configuration Management', 'case Operations staff', 'direction', 'Configuration Management', 'relationship', 'new CIs', 'mark CIs', 'ï¿½disposedï¿½', 'CMS', 'update', 'operational activity', 'Operations staff', 'Release', 'Deployment Management Release', 'Deployment Management', 'Service Transition publication', 'aspect', 'process', 'Service Operation staff', 'day-to-day basis', 'ï¿½ Actual implementation action', 'deployment', 'new release', 'direction', 'Release', 'Deployment Management', 'Service Operation component', 'service ï¿½ Participation', 'planning stage', 'major new release', 'Service Operation issue', 'physical handling', 'CIs', 'DML', 'operational role', 'Release', 'Deployment Management procedure', 'such', 'item']\n"
     ],
     "output_type": "stream"
    }
   ],
   "source": [
    "### Term Extraction (NNP next to each other) ###\n",
    "def extract_terms(part_of_speech_array_array, tags_to_use):\n",
    "    terms_array = []\n",
    "    term_phrase = []\n",
    "    start_new_term = True\n",
    "    for index, part in enumerate(part_of_speech_array_array):\n",
    "        if(part[1] in tags_to_use):\n",
    "            term_phrase.append(part[0])\n",
    "            start_new_term = False if part_of_speech_array_array[index + 1][1] in tags_to_use else True\n",
    "\n",
    "            if start_new_term == True:\n",
    "                terms_array.append(\" \".join(term_phrase))\n",
    "                term_phrase = []\n",
    "    return terms_array\n",
    "\n",
    "### Term Extraction (NNP next to each other) ###\n",
    "def extract_terms_with_adj(part_of_speech_array_array, tags_to_use):\n",
    "    terms_array = []\n",
    "    term_phrase = []\n",
    "    start_new_term = True\n",
    "    for index, part in enumerate(part_of_speech_array_array):\n",
    "        if(part[1] in tags_to_use):\n",
    "            term_phrase.append(part[0])\n",
    "            start_new_term = False if part_of_speech_array_array[index + 1][1] in tags_to_use else True\n",
    "\n",
    "            if start_new_term == True:\n",
    "                terms_array.append(\" \".join(term_phrase))\n",
    "                term_phrase = []\n",
    "    return terms_array\n",
    "\n",
    "major_named_concepts = extract_terms(part_of_speech_array, {\"NNP\", \"NNPS\"})\n",
    "other_concepts = extract_terms(part_of_speech_array, {\"NN\", \"NNS\"})\n",
    "all_noun_phrases = extract_terms(part_of_speech_array, {\"NNP\", \"NNPS\", \"NN\", \"NNS\"})\n",
    "all_noun_phrases_with_adj = extract_terms_with_adj(part_of_speech_array, {\"NNP\", \"NNPS\", \"NN\", \"NNS\", \"JJ\"})\n",
    "\n",
    "print(f\"major named concepts: \\n{major_named_concepts}\")\n",
    "print(f\"\\nother concepts: \\n{other_concepts}\")\n",
    "print(f\"\\nall noun phrases: \\n{all_noun_phrases}\")\n",
    "print(f\"\\nall noun phrases with adj: \\n{all_noun_phrases_with_adj}\")\n"
   ]
  },
  {
   "cell_type": "markdown",
   "metadata": {
    "pycharm": {
     "name": "#%% md\n"
    }
   },
   "source": [
    "Major/common concept extraction"
   ]
  },
  {
   "cell_type": "code",
   "execution_count": 182,
   "metadata": {
    "pycharm": {
     "is_executing": false,
     "name": "#%%\n"
    }
   },
   "outputs": [
    {
     "name": "stdout",
     "text": [
      "major named concepts: \n[('Service Operation', 12), ('Change Management', 4), ('Configuration Management', 4), ('CIs', 4), ('Service Transition', 3), ('Release', 3), ('Deployment Management', 3), ('CMS', 2), ('Operations', 2), ('OPERATIONAL ACTIVITIES OF PROCESSES COVERED IN OTHER LIFECYCLE PHASES', 1), ('Change Management Change Management', 1), ('Raising', 1), ('RFCs', 1), ('CAB', 1), ('CAB/EC', 1), ('ï¿½ Implementing', 1), ('Helping', 1), ('Configuration Management Configuration Management', 1), ('Informing Configuration Management', 1), ('CMS ï¿½ Making', 1), ('Responsibility', 1), ('Deployment Management Release', 1), ('Actual', 1), ('Participation', 1), ('DML', 1)]\n\nother concepts: \n[('staff', 6), ('component', 5), ('service', 5), ('change', 4), ('publication', 3), ('aspect', 3), ('basis', 3), ('issue', 3), ('process', 2), ('discrepancy', 2), ('direction', 2), ('release', 2), ('meeting', 1), ('risk', 1), ('view', 1), ('account', 1), ('define', 1), ('maintain change model', 1), ('change schedule', 1), ('standard', 1), ('amendment', 1), ('authority', 1), ('case', 1), ('relationship', 1), ('mark', 1), ('ï¿½disposedï¿½', 1), ('update', 1), ('activity', 1), ('implementation action', 1), ('deployment', 1), ('planning stage', 1), ('handling', 1), ('role', 1), ('procedure', 1), ('item', 1)]\n\nall noun phrases: \n[('Service Operation component', 5), ('service', 5), ('Service Operation staff', 4), ('Configuration Management', 4), ('Service Transition publication', 3), ('aspect', 3), ('Change Management', 3), ('basis', 3), ('change', 3), ('CIs', 3), ('Release', 3), ('Service Operation issue', 2), ('discrepancy', 2), ('CMS', 2), ('direction', 2), ('Deployment Management', 2), ('release', 2), ('OPERATIONAL ACTIVITIES OF PROCESSES COVERED IN OTHER LIFECYCLE PHASES', 1), ('Change Management Change Management', 1), ('Raising', 1), ('RFCs', 1), ('CAB', 1), ('CAB/EC meeting', 1), ('Service Operation risk', 1), ('issue', 1), ('view', 1), ('account ï¿½ Implementing change', 1), ('Helping define', 1), ('maintain change model', 1), ('change schedule', 1), ('Change Management process', 1), ('standard', 1), ('Configuration Management Configuration Management', 1), ('Informing Configuration Management', 1), ('CMS ï¿½ Making', 1), ('amendment', 1), ('authority', 1), ('Responsibility', 1), ('case Operations staff', 1), ('relationship', 1), ('mark CIs', 1), ('ï¿½disposedï¿½', 1), ('update', 1), ('activity', 1), ('Operations staff', 1), ('Deployment Management Release', 1), ('process', 1), ('Actual implementation action', 1), ('deployment', 1), ('Participation', 1)]\n"
     ],
     "output_type": "stream"
    }
   ],
   "source": [
    "# concept_relationships = extract_terms(part_of_speech_array, {\"VP\"})\n",
    "# print(concept_relationships)\n",
    "# print(all_noun_phrases)\n",
    "\n",
    "### Perform frequency analysis ###\n",
    "### Concept Extraction Frequency analysis ###\n",
    "major_named_concept_frequency_distribution = nltk.FreqDist(major_named_concepts)\n",
    "other_concept_frequency_distribution = nltk.FreqDist(other_concepts)\n",
    "all_noun_phrases_frequency_distribution = nltk.FreqDist(all_noun_phrases)\n",
    "\n",
    "print(f\"major named concepts: \\n{major_named_concept_frequency_distribution.most_common(50)}\")\n",
    "print(f\"\\nother concepts: \\n{other_concept_frequency_distribution.most_common(50)}\")\n",
    "print(f\"\\nall noun phrases: \\n{all_noun_phrases_frequency_distribution.most_common(50)}\")"
   ]
  },
  {
   "cell_type": "markdown",
   "metadata": {
    "pycharm": {
     "name": "#%% md\n"
    }
   },
   "source": [
    "Concept relationship extraction"
   ]
  },
  {
   "cell_type": "code",
   "execution_count": 183,
   "metadata": {
    "pycharm": {
     "is_executing": false
    }
   },
   "outputs": [],
   "source": [
    "def get_sentence_at_index(part_of_speech_array, index):\n",
    "    sentence_starting_index = 0\n",
    "    sentence_end_index = len(part_of_speech_array)\n",
    "    \n",
    "    ### Get sentence start index ###\n",
    "    for i in range(0, index):\n",
    "#         print(part_of_speech_array[index])\n",
    "        if part_of_speech_array[index - i][1] == \".\":\n",
    "            sentence_starting_index = index - i\n",
    "            break\n",
    "    \n",
    "    ### Get sentence end index ###\n",
    "    for i in range(0, len(part_of_speech_array)):\n",
    "        if part_of_speech_array[index + i][1] == \".\":\n",
    "            sentence_end_index = index + i\n",
    "            break\n",
    "            \n",
    "    return (sentence_starting_index, sentence_end_index + 1)\n",
    "\n",
    "### Term Extraction (NNP next to each other) ###\n",
    "def extract_terms(part_of_speech_array_array, tags_to_use):\n",
    "    part_of_speech_array_with_terms = []\n",
    "    \n",
    "    terms_array = []\n",
    "    term_phrase = []\n",
    "    start_new_term = True\n",
    "    for index, part in enumerate(part_of_speech_array_array):\n",
    "        if(part[1] in tags_to_use):\n",
    "            term_phrase.append(part[0])\n",
    "            start_new_term = False if part_of_speech_array_array[index + 1][1] in tags_to_use else True\n",
    "\n",
    "            if start_new_term == True:\n",
    "                if len(term_phrase) > 1:\n",
    "#                     part_of_speech_array_with_terms.append((\" \".join(term_phrase), f\"NPhrase-{part[1]}\"))\n",
    "                    part_of_speech_array_with_terms.append((\" \".join(term_phrase), \"NPhrase\"))\n",
    "                else:\n",
    "                    part_of_speech_array_with_terms.append((\" \".join(term_phrase), part[1]))\n",
    "                term_phrase = []\n",
    "        else:\n",
    "            part_of_speech_array_with_terms.append((part[0], part[1]))\n",
    "    return part_of_speech_array_with_terms\n",
    "\n",
    "part_of_speech_array_with_terms = extract_terms(part_of_speech_array, {\"NNP\", \"NNPS\", \"NN\", \"NNS\"})\n",
    "# print(part_of_speech_array_with_terms)\n",
    "\n",
    "sentences = []\n",
    "temp_sentence = []\n",
    "for word in part_of_speech_array_with_terms:\n",
    "    if word[1] is \".\":\n",
    "        temp_sentence.append(word)\n",
    "        sentences.append(temp_sentence)\n",
    "        temp_sentence = []\n",
    "    else:\n",
    "        temp_sentence.append(word)\n",
    "        \n",
    "        \n",
    "from nltk.corpus import stopwords\n",
    "stop_words = set(stopwords.words('english'))\n",
    "\n",
    "# for index, sentence in enumerate(sentences):\n",
    "#     sentence_with_no_stop_words = [word_pos for word_pos in sentence if not word_pos[0] in stop_words]\n",
    "#     \n",
    "#     if index > 3:\n",
    "#         break\n",
    "#         \n",
    "#     print(sentence)\n",
    "#     print(sentence_with_no_stop_words)\n",
    "#     print(\"-\" * 100)\n"
   ]
  },
  {
   "cell_type": "code",
   "execution_count": 184,
   "outputs": [
    {
     "name": "stdout",
     "text": [
      "[('These', 'DT'), ('include', 'VBP'), (':', ':'), ('ï¿½', 'JJ'), ('Informing Configuration Management', 'NPhrase'), ('of', 'IN'), ('any', 'DT'), ('discrepancy', 'NNS'), ('found', 'VBN'), ('between', 'IN'), ('any', 'DT'), ('CIs', 'NNP'), ('and', 'CC'), ('the', 'DT'), ('CMS ï¿½ Making', 'NPhrase'), ('any', 'DT'), ('amendment', 'NNS'), ('necessary', 'JJ'), ('to', 'TO'), ('correct', 'VB'), ('any', 'DT'), ('discrepancy', 'NNS'), (',', ','), ('under', 'IN'), ('the', 'DT'), ('authority', 'NN'), ('of', 'IN'), ('Configuration Management', 'NPhrase'), (',', ','), ('where', 'WRB'), ('they', 'PRP'), ('involve', 'VBP'), ('any', 'DT'), ('Service Operation component', 'NPhrase'), ('or', 'CC'), ('service', 'NNS'), ('.', '.')]\n*<JJ><NNP><VBZ><NP>\n"
     ],
     "output_type": "stream"
    }
   ],
   "source": [
    "# from part_of_speech_regex import PartOfSpeechRegex\n",
    "\n",
    "class PartOfSpeechRegex:\n",
    "    def parseAndReturnPatterns(self, pattern_string, sentence):\n",
    "        print(pattern_string)\n",
    "\n",
    "pattern_string = \"*<JJ><NNP><VBZ><NP>\"\n",
    "\n",
    "print(sentences[3])\n",
    "\n",
    "part_of_speech_regex = PartOfSpeechRegex()\n",
    "# part_of_speech_regex.parseAndReturnPatterns()\n",
    "\n",
    "part_of_speech_regex.parseAndReturnPatterns(pattern_string, sentences[3])\n"
   ],
   "metadata": {
    "collapsed": false,
    "pycharm": {
     "name": "#%%        \n",
     "is_executing": false
    }
   }
  },
  {
   "cell_type": "code",
   "execution_count": 185,
   "metadata": {
    "pycharm": {
     "is_executing": false,
     "name": "#%%\n"
    }
   },
   "outputs": [],
   "source": [
    "most_common_major_concepts = major_named_concept_frequency_distribution.most_common(50)\n",
    "# print(most_common_major_concepts)\n",
    "# print(tokens.index(most_common_major_concepts[0][0]))\n",
    "# print(part_of_speech_array[206])\n",
    "## Get indices of all common concepts\n",
    "indices = [i for i, x in enumerate(part_of_speech_array) if x[0] == most_common_major_concepts[0][0]]\n",
    "# print(indices)\n",
    "# print(most_common_major_concepts[1][0])\n",
    "\n",
    "def get_sentence_at_index(part_of_speech_array, index):\n",
    "    sentence_starting_index = 0\n",
    "    sentence_end_index = len(part_of_speech_array)\n",
    "    \n",
    "    ### Get sentence start index ###\n",
    "    for i in range(0, index):\n",
    "        if part_of_speech_array[index - i][1] == \".\":\n",
    "            sentence_starting_index = index - i\n",
    "            break\n",
    "    \n",
    "    ### Get sentence end index ###\n",
    "    for i in range(0, index):\n",
    "        if part_of_speech_array[index + i][1] == \".\":\n",
    "            sentence_end_index = index + i\n",
    "            break\n",
    "            \n",
    "    return (sentence_starting_index + 1, sentence_end_index + 1)\n",
    "\n",
    "def does_list_contain_verb_pos(part_of_speech_array):\n",
    "    for word_pos in part_of_speech_array:\n",
    "        if word_pos[1] in ['VB', 'VBD', 'VBG', 'VBN', 'VBP', 'VBZ']:\n",
    "            return True\n",
    "    return False\n",
    "    \n",
    "# sentence_index = get_sentence_at_index(part_of_speech_array, indices[0])\n",
    "# print(sentence_index)\n",
    "\n",
    "concept_relations = []\n",
    "\n",
    "i = 0\n",
    "for index in indices:\n",
    "#     if i < 3:\n",
    "#         i = i + 1\n",
    "#         continue\n",
    "    sentence_pos_containing_concept = part_of_speech_array[\n",
    "        get_sentence_at_index(part_of_speech_array, index)[0]:\n",
    "        get_sentence_at_index(part_of_speech_array, index)[1]\n",
    "    ]\n",
    "    print(sentence_pos_containing_concept)\n",
    "        \n",
    "    last_concept = ()\n",
    "    last_concept_index = -1\n",
    "    # For word part_of_speech in sentence_part_of_speech_containing_concept\n",
    "    for index, word_pos in enumerate(sentence_pos_containing_concept):\n",
    "#         print(f\"{word_pos[0]}: {word_pos[1]}\")\n",
    "#         print(word_pos[0] in all_noun_phrases)\n",
    "        \n",
    "#         if (word_pos[0] in all_noun_phrases):\n",
    "        if (word_pos[0] in major_named_concepts):\n",
    "            if last_concept_index != -1:# and does_list_contain_verb_pos(sentence_pos_containing_concept[last_concept_index + 1:index]):\n",
    "                concept_relations.append(f\"{last_concept}::{sentence_pos_containing_concept[last_concept_index + 1:index]}::{word_pos}\")\n",
    "            \n",
    "            last_concept = word_pos\n",
    "            last_concept_index = index\n",
    "        \n",
    "    # print(related_concepts)\n",
    "    # print()\n",
    "    \n",
    "#     print('-----')\n",
    "    i = i + 1\n",
    "#     if i == 4:\n",
    "#         break\n",
    "\n",
    "for concept_relation in concept_relations:\n",
    "    print(concept_relation)\n"
   ]
  },
  {
   "cell_type": "markdown",
   "metadata": {
    "pycharm": {
     "is_executing": false,
     "name": "#%% md\n"
    }
   },
   "source": [
    "Metrics for term extraction chapter 4 first section"
   ]
  },
  {
   "cell_type": "code",
   "execution_count": 186,
   "metadata": {
    "pycharm": {
     "name": "#%%\n",
     "is_executing": false
    }
   },
   "outputs": [],
   "source": [
    "# This code has been moved into the print_metrics.py Python module to prevent code duplication\n",
    "\n",
    "### The below cell code is now within the print_metrics python file so it can be used for iteration 1 and 2 without duplication\n",
    "# # automatic_concepts_file_path = \"ITIL Books/ITIL 3/Service operation chapter 4/Automated concepts extracted/4/Automated concepts extracted 4.txt\"\n",
    "# # manual_concepts_file_path = \"ITIL Books/ITIL 3/Service operation chapter 4/Automated concepts extracted/4/Manual concepts extracted 4.txt\"\n",
    "# \n",
    "# # automatic_concepts_file_path = \"ITIL Books/ITIL 3/Service operation chapter 4/Automated concepts extracted/4.2/Automated concepts extracted 4.2.txt\"\n",
    "# # manual_concepts_file_path = \"ITIL Books/ITIL 3/Service operation chapter 4/Automated concepts extracted/4.2/Manual concepts extracted 4.2.txt\"\n",
    "# # \n",
    "# # with open(automatic_concepts_file_path, 'r') as file:\n",
    "# #     automatic_concepts = file.read()\n",
    "# \n",
    "# with open(manual_concepts_file_path, 'r') as file:\n",
    "#     manual_concepts = file.read()\n",
    "# \n",
    "# manual_concepts_list = manual_concepts.split('\\n')\n",
    "# manual_concepts_list = [x.lower() for x in manual_concepts_list]\n",
    "# \n",
    "# # print(\"Manual concepts\")\n",
    "# # print(list(dict.fromkeys(manual_concepts_list)))\n",
    "# # print()\n",
    "# \n",
    "# # automatic_concepts_list = ['Service Operation', 'processes', 'paragraph', 'detail', 'chapter', 'reference', 'structure', 'processes', 'detail', 'chapter', 'Please note', 'roles', 'process', 'tools', 'process', 'Chapters', 'Management', 'process', 'monitors', 'events', 'IT infrastructure', 'operation', 'exception conditions', 'Incident Management', 'service', 'users', 'order', 'business impact', 'Problem Management', 'root-cause analysis', 'cause', 'events', 'incidents', 'activities', 'problems/incidents', 'Known Error subprocess', 'quicker diagnosis', 'resolution', 'incidents', 'NOTE', 'distinction', 'incidents', 'problems', 'Incident', 'Problem Records', 'danger', 'Incidents', 'support cycle', 'actions', 'recurrence', 'incidents', 'Incidents', 'root cause analysis', 'visibility', 'user ’ s service', 'SLA targets', 'service', 'users', 'expectations', 'results', 'number', 'incidents', '‘ purge ’', 'visibility', 'issues', 'Request Fulfilment', 'management', 'customer', 'user requests', 'incident', 'service delay', 'disruption', 'organizations', 'requests', 'category ’', 'incidents', 'information', 'Incident Management system', 'others', 'volumes', 'business priority', 'requests', 'provision', 'Request Fulfilment', 'Request Fulfilment process', 'practice', 'Request Fulfilment process', 'customer', 'user requests', 'types', 'requests', 'facilities', 'moves', 'supplies', 'IT services', 'requests', 'SLA measures', 'records', 'process flow', 'practice', 'organizations', 'Access Management', 'process', 'users', 'right', 'service', 'access', 'users', 'users', 'ability', 'access services', 'stages', 'resources', 'HR', 'lifecycle', 'Access Management', 'Identity', 'Rights Management', 'organizations', 'addition', 'processes', 'Service Operation', 'phases', 'Service Management Lifecycle', 'aspects', 'processes', 'part', 'chapter', 'include', 'Change Management', 'process', 'Configuration Management', 'Release Management', 'topics', 'Service Transition publication', 'Capacity', 'Availability Management', 'aspects', 'publication', 'detail', 'Service Design publication', 'Financial Management', 'Service Strategy publication', 'Knowledge Management', 'Service Transition publication', 'IT Service Continuity', 'Service Design publication', 'Service Reporting', 'Measurement', 'Continual Service Improvement publication']\n",
    "# automatic_concepts_list = all_noun_phrases\n",
    "# automatic_concepts_list = [x.lower() for x in automatic_concepts_list]\n",
    "# \n",
    "# # print(\"all noun phrases\")\n",
    "# # print(list(dict.fromkeys(automatic_concepts_list)))\n",
    "# \n",
    "# count = 0\n",
    "# for concept in manual_concepts_list:\n",
    "#     if concept in automatic_concepts_list:\n",
    "#         count = count + 1\n",
    "# \n",
    "# number_of_fully_correct_manual_concepts = count\n",
    "# \n",
    "# number_of_manual_concepts = len(manual_concepts_list)\n",
    "# \n",
    "# count = 0\n",
    "# for concept in automatic_concepts_list:\n",
    "#     if concept in manual_concepts_list:\n",
    "#         count = count + 1\n",
    "#     \n",
    "# number_of_fully_correct_automatic_concepts = count\n",
    "# \n",
    "# number_of_automatic_concepts = len(automatic_concepts_list)\n",
    "# \n",
    "# print(f\"number_of_manual_concepts: {number_of_manual_concepts}\")\n",
    "# print(f\"number_of_automatic_concepts: {number_of_automatic_concepts}\")\n",
    "# print(f\"number_of_fully_correct_manual_concepts: {number_of_fully_correct_manual_concepts}\")\n",
    "# print(f\"number_of_fully_correct_automatic_concepts: {number_of_fully_correct_automatic_concepts}\")\n",
    "# \n",
    "# # Lists to words for partial matches\n",
    "# automatic_concepts_list_single_words = [x.split() for x in automatic_concepts_list]\n",
    "# # print(automatic_concepts_list_single_words)\n",
    "# \n",
    "# manual_concepts_list_single_words = [x.split() for x in manual_concepts_list]\n",
    "# # print(manual_concepts_list_single_words)\n",
    "# \n",
    "# count = 0\n",
    "# for concept in manual_concepts_list_single_words:\n",
    "#     for word in concept:\n",
    "#         if word in ' '.join(automatic_concepts_list).split():\n",
    "#             count = count + 1\n",
    "#             break\n",
    "#         \n",
    "# number_of_full_and_partial_correct_manual_concepts = count\n",
    "# print(f\"number_of_full_and_partial_correct_manual_concepts: {number_of_full_and_partial_correct_manual_concepts}\")\n",
    "# \n",
    "# count = 0\n",
    "# for concept in automatic_concepts_list_single_words:\n",
    "#     for word in concept:\n",
    "#         if word in ' '.join(manual_concepts_list).split():\n",
    "#             count = count + 1\n",
    "#             break\n",
    "#             \n",
    "# number_of_full_and_partial_correct_automatic_concepts = count\n",
    "# print(f\"number_of_full_and_partial_correct_automatic_concepts: {number_of_full_and_partial_correct_automatic_concepts}\")"
   ]
  },
  {
   "cell_type": "code",
   "execution_count": 187,
   "outputs": [
    {
     "name": "stdout",
     "text": [
      "With duplicates\nAll noun phrases\n['OPERATIONAL ACTIVITIES OF PROCESSES COVERED IN OTHER LIFECYCLE PHASES', 'Change Management Change Management', 'Service Transition publication', 'aspect', 'Change Management', 'Service Operation staff', 'basis', 'Raising', 'RFCs', 'Service Operation issue', 'CAB', 'CAB/EC meeting', 'Service Operation risk', 'issue', 'view', 'account ï¿½ Implementing change', 'Change Management', 'Service Operation component', 'service', 'change', 'Change Management', 'Service Operation component', 'service', 'Helping define', 'maintain change model', 'Service Operation component', 'service', 'change schedule', 'Service Operation staff', 'change', 'Change Management process', 'standard', 'change', 'Configuration Management Configuration Management', 'Service Transition publication', 'aspect', 'Configuration Management', 'Service Operation staff', 'basis', 'Informing Configuration Management', 'discrepancy', 'CIs', 'CMS ï¿½ Making', 'amendment', 'discrepancy', 'authority', 'Configuration Management', 'Service Operation component', 'service', 'Responsibility', 'CMS', 'Configuration Management', 'case Operations staff', 'direction', 'Configuration Management', 'relationship', 'CIs', 'mark CIs', 'ï¿½disposedï¿½', 'CMS', 'update', 'activity', 'Operations staff', 'Release', 'Deployment Management Release', 'Deployment Management', 'Service Transition publication', 'aspect', 'process', 'Service Operation staff', 'basis', 'Actual implementation action', 'deployment', 'release', 'direction', 'Release', 'Deployment Management', 'Service Operation component', 'service', 'Participation', 'planning stage', 'release', 'Service Operation issue', 'handling', 'CIs', 'DML', 'role', 'Release', 'Deployment Management procedure', 'item']\nmanual concepts\n['operational activities', 'processes', 'lifecycle phases', 'change management', 'change management', 'service transition publication', 'change management', 'service operation staff', 'day-to-day-basis', 'rfcs', 'service operation issues', 'cab', 'cab meetings', 'ec meetings', 'service operation risks', 'issues', 'views', 'changes', 'change management', 'service operation component', 'services', 'change management', 'service operation component', 'services', 'change models', 'service operation components', 'services', 'change schedules', 'service operation staff', 'changes', 'change management process', 'standard', 'operational-type changes', 'configuration management', 'configuration management', 'service transition publication', 'aspects', 'configuration management', 'service operation staff', 'day-to-day basis', 'configuration management', 'discrepancies', 'cis', 'cms', 'amendments', 'correct', 'discrepancies', 'authority', 'configuration management', 'service operation components', 'services', 'responsibility', 'cms', 'configuration management', 'operations staff', 'configuration management', 'relationships', 'cis', 'cis', 'disposed', 'cms', 'updates', 'related', 'operational activities', 'operations staff', 'release and deployment management', 'release and deployment management', 'service transition publication', 'aspects', 'process', 'service operation staff', 'day-to-day basis', 'actual implementation actions', 'deployment', 'new releases', 'direction', 'release and deployment management', 'relate', 'service operation components', 'services', 'participation', 'planning stages', 'releases', 'service operation issues', 'physical handling', 'cis', 'dml', 'fulfil', 'operational roles', 'adhering', 'relevant release and deployment management procedures', 'ensure', 'items', 'booked out and back in', '']\nnumber_of_manual_concepts: 95\nnumber_of_automatic_concepts: 90\nnumber_of_fully_correct_manual_concepts: 41\nnumber_of_fully_correct_automatic_concepts: 37\nnumber_of_full_and_partial_correct_manual_concepts: 65\nnumber_of_full_and_partial_correct_automatic_concepts: 73\n\nWithout duplicates\nAll noun phrases\n['OPERATIONAL ACTIVITIES OF PROCESSES COVERED IN OTHER LIFECYCLE PHASES', 'Change Management Change Management', 'Service Transition publication', 'aspect', 'Change Management', 'Service Operation staff', 'basis', 'Raising', 'RFCs', 'Service Operation issue', 'CAB', 'CAB/EC meeting', 'Service Operation risk', 'issue', 'view', 'account ï¿½ Implementing change', 'Change Management', 'Service Operation component', 'service', 'change', 'Change Management', 'Service Operation component', 'service', 'Helping define', 'maintain change model', 'Service Operation component', 'service', 'change schedule', 'Service Operation staff', 'change', 'Change Management process', 'standard', 'change', 'Configuration Management Configuration Management', 'Service Transition publication', 'aspect', 'Configuration Management', 'Service Operation staff', 'basis', 'Informing Configuration Management', 'discrepancy', 'CIs', 'CMS ï¿½ Making', 'amendment', 'discrepancy', 'authority', 'Configuration Management', 'Service Operation component', 'service', 'Responsibility', 'CMS', 'Configuration Management', 'case Operations staff', 'direction', 'Configuration Management', 'relationship', 'CIs', 'mark CIs', 'ï¿½disposedï¿½', 'CMS', 'update', 'activity', 'Operations staff', 'Release', 'Deployment Management Release', 'Deployment Management', 'Service Transition publication', 'aspect', 'process', 'Service Operation staff', 'basis', 'Actual implementation action', 'deployment', 'release', 'direction', 'Release', 'Deployment Management', 'Service Operation component', 'service', 'Participation', 'planning stage', 'release', 'Service Operation issue', 'handling', 'CIs', 'DML', 'role', 'Release', 'Deployment Management procedure', 'item']\nmanual concepts\n['operational activities', 'processes', 'lifecycle phases', 'change management', 'service transition publication', 'service operation staff', 'day-to-day-basis', 'rfcs', 'service operation issues', 'cab', 'cab meetings', 'ec meetings', 'service operation risks', 'issues', 'views', 'changes', 'service operation component', 'services', 'change models', 'service operation components', 'change schedules', 'change management process', 'standard', 'operational-type changes', 'configuration management', 'aspects', 'day-to-day basis', 'discrepancies', 'cis', 'cms', 'amendments', 'correct', 'authority', 'responsibility', 'operations staff', 'relationships', 'disposed', 'updates', 'related', 'release and deployment management', 'process', 'actual implementation actions', 'deployment', 'new releases', 'direction', 'relate', 'participation', 'planning stages', 'releases', 'physical handling', 'dml', 'fulfil', 'operational roles', 'adhering', 'relevant release and deployment management procedures', 'ensure', 'items', 'booked out and back in', '']\nnumber_of_manual_concepts: 59\nnumber_of_automatic_concepts: 55\nnumber_of_fully_correct_manual_concepts: 19\nnumber_of_fully_correct_automatic_concepts: 19\nnumber_of_full_and_partial_correct_manual_concepts: 36\nnumber_of_full_and_partial_correct_automatic_concepts: 41\n"
     ],
     "output_type": "stream"
    }
   ],
   "source": [
    "import print_metrics\n",
    "\n",
    "part_of_speech_array = nltk.pos_tag(tokens)\n",
    "lemmatized_part_of_speech_array = lemmatize_part_of_speech_array(part_of_speech_array)\n",
    "\n",
    "extract_terms(part_of_speech_array, {\"NNP\", \"NNPS\", \"NN\", \"NNS\"})   \n",
    "extract_terms(lemmatized_part_of_speech_array, {\"NNP\", \"NNPS\", \"NN\", \"NNS\"})\n",
    "\n",
    "print(\"With duplicates\")\n",
    "print_metrics.print_metrics(manual_concepts_file_path, all_noun_phrases, debug=True, remove_duplicates=False)\n",
    "\n",
    "print()\n",
    "print(\"Without duplicates\")\n",
    "print_metrics.print_metrics(manual_concepts_file_path, all_noun_phrases, debug=True, remove_duplicates=True)"
   ],
   "metadata": {
    "collapsed": false,
    "pycharm": {
     "name": "#%%\n",
     "is_executing": false
    }
   }
  }
 ],
 "metadata": {
  "kernelspec": {
   "display_name": "Python 3",
   "language": "python",
   "name": "python3"
  },
  "language_info": {
   "codemirror_mode": {
    "name": "ipython",
    "version": 3
   },
   "file_extension": ".py",
   "mimetype": "text/x-python",
   "name": "python",
   "nbconvert_exporter": "python",
   "pygments_lexer": "ipython3",
   "version": "3.7.3"
  },
  "pycharm": {
   "stem_cell": {
    "cell_type": "raw",
    "source": [],
    "metadata": {
     "collapsed": false
    }
   }
  }
 },
 "nbformat": 4,
 "nbformat_minor": 2
}